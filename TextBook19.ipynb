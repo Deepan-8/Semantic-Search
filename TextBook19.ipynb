{
 "cells": [
  {
   "cell_type": "code",
   "execution_count": 3,
   "id": "c66481ed",
   "metadata": {},
   "outputs": [
    {
     "name": "stdout",
     "output_type": "stream",
     "text": [
      "WARNING:tensorflow:From C:\\Users\\Deepan\\AppData\\Local\\Packages\\PythonSoftwareFoundation.Python.3.11_qbz5n2kfra8p0\\LocalCache\\local-packages\\Python311\\site-packages\\tf_keras\\src\\losses.py:2976: The name tf.losses.sparse_softmax_cross_entropy is deprecated. Please use tf.compat.v1.losses.sparse_softmax_cross_entropy instead.\n",
      "\n"
     ]
    }
   ],
   "source": [
    "from sentence_transformers import SentenceTransformer \n",
    "from sklearn.metrics.pairwise import cosine_similarity \n",
    "import numpy as np"
   ]
  },
  {
   "cell_type": "code",
   "execution_count": 4,
   "id": "fb658df1",
   "metadata": {},
   "outputs": [],
   "source": [
    "products = [ \n",
    "\"Nike Running Shoes\", \n",
    "\"Adidas Sneakers\", \n",
    "\"Puma Sports T-shirt\", \n",
    "\"Apple iPhone 14\", \n",
    "\"Samsung Galaxy S23\", \n",
    "\"Sony Headphones\", \n",
    "\"Levi’s Jeans\", \n",
    "\"Under Armour Hoodie\", \n",
    "] "
   ]
  },
  {
   "cell_type": "code",
   "execution_count": 5,
   "id": "550c8bf1",
   "metadata": {},
   "outputs": [],
   "source": [
    "model = SentenceTransformer(\"all-MiniLM-L6-v2\")  \n",
    "product_embeddings = model.encode(products) "
   ]
  },
  {
   "cell_type": "code",
   "execution_count": 6,
   "id": "b1d7ae05",
   "metadata": {},
   "outputs": [],
   "source": [
    "def semantic_search(query, top_k=3): \n",
    "    # Encode the search query \n",
    "    query_embedding = model.encode([query]) \n",
    "     \n",
    "    # Compute cosine similarity \n",
    "    similarities = cosine_similarity(query_embedding, product_embeddings)[0] \n",
    "     \n",
    "    # Get top_k most similar products \n",
    "    top_indices = np.argsort(similarities)[::-1][:top_k] \n",
    "     \n",
    "    print(f\"\\n Query: {query}\\n\") \n",
    "    for idx in top_indices: \n",
    "        print(f\"{products[idx]}  (score: {similarities[idx]:.2f})\") \n"
   ]
  },
  {
   "cell_type": "code",
   "execution_count": 7,
   "id": "26db6586",
   "metadata": {},
   "outputs": [
    {
     "name": "stdout",
     "output_type": "stream",
     "text": [
      "\n",
      " Query: sports shoes\n",
      "\n",
      "Nike Running Shoes  (score: 0.78)\n",
      "Adidas Sneakers  (score: 0.71)\n",
      "Puma Sports T-shirt  (score: 0.41)\n",
      "\n",
      " Query: latest iPhone\n",
      "\n",
      "Apple iPhone 14  (score: 0.66)\n",
      "Samsung Galaxy S23  (score: 0.38)\n",
      "Sony Headphones  (score: 0.18)\n",
      "\n",
      " Query: warm hoodie\n",
      "\n",
      "Under Armour Hoodie  (score: 0.74)\n",
      "Levi’s Jeans  (score: 0.36)\n",
      "Puma Sports T-shirt  (score: 0.31)\n"
     ]
    }
   ],
   "source": [
    "semantic_search(\"sports shoes\") \n",
    "semantic_search(\"latest iPhone\") \n",
    "semantic_search(\"warm hoodie\")"
   ]
  },
  {
   "cell_type": "code",
   "execution_count": null,
   "id": "fc588776",
   "metadata": {},
   "outputs": [],
   "source": []
  }
 ],
 "metadata": {
  "kernelspec": {
   "display_name": "Python 3",
   "language": "python",
   "name": "python3"
  },
  "language_info": {
   "codemirror_mode": {
    "name": "ipython",
    "version": 3
   },
   "file_extension": ".py",
   "mimetype": "text/x-python",
   "name": "python",
   "nbconvert_exporter": "python",
   "pygments_lexer": "ipython3",
   "version": "3.11.9"
  }
 },
 "nbformat": 4,
 "nbformat_minor": 5
}
